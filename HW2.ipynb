{
  "nbformat": 4,
  "nbformat_minor": 0,
  "metadata": {
    "colab": {
      "name": "Untitled4.ipynb",
      "provenance": [],
      "collapsed_sections": [],
      "authorship_tag": "ABX9TyOAjrxWh1Rpc8I/XJUDx8Nu",
      "include_colab_link": true
    },
    "kernelspec": {
      "name": "python3",
      "display_name": "Python 3"
    }
  },
  "cells": [
    {
      "cell_type": "markdown",
      "metadata": {
        "id": "view-in-github",
        "colab_type": "text"
      },
      "source": [
        "<a href=\"https://colab.research.google.com/github/jadeyksl/Fantastik-patates/blob/main/HW2.ipynb\" target=\"_parent\"><img src=\"https://colab.research.google.com/assets/colab-badge.svg\" alt=\"Open In Colab\"/></a>"
      ]
    },
    {
      "cell_type": "code",
      "metadata": {
        "colab": {
          "base_uri": "https://localhost:8080/"
        },
        "id": "-KgHHJX4RJ_6",
        "outputId": "017e3f0a-b59f-4ae2-81a0-2557c4060f20"
      },
      "source": [
        "\r\n",
        "ad =input(\"please enter your name: \")\r\n",
        "soyad =input(\"please enter your surname: \")\r\n",
        "yas = int (input(\"please enter your age: \"))\r\n",
        "dtar =input(\"please enter your birthday year: \")\r\n",
        "mylist = [ad, soyad, yas, dtar]\r\n",
        "for i in range(4):\r\n",
        "  print (mylist [i])\r\n",
        "if (yas < 18):\r\n",
        "    print(\"you cant go out because its dengerous\")\r\n",
        "else:\r\n",
        "    print(\"you can go out to the street\")"
      ],
      "execution_count": 13,
      "outputs": [
        {
          "output_type": "stream",
          "text": [
            "please enter your name: yeşim\n",
            "please enter your surname: yüksel\n",
            "please enter your age: 34\n",
            "please enter your birthday year: 1986\n",
            "yeşim\n",
            "yüksel\n",
            "34\n",
            "1986\n",
            "you can go out to the street\n"
          ],
          "name": "stdout"
        }
      ]
    }
  ]
}